{
 "cells": [
  {
   "cell_type": "code",
   "execution_count": 14,
   "metadata": {},
   "outputs": [],
   "source": [
    "from umap import UMAP\n",
    "from PIL import Image\n",
    "import joblib\n",
    "import numpy as np\n",
    "import pandas as pd\n",
    "import torch\n",
    "from matplotlib import pyplot as plt\n",
    "from sklearn.decomposition import PCA\n",
    "from sklearn.cluster import KMeans\n",
    "from sklearn.preprocessing import MinMaxScaler\n",
    "from sklearn.cluster import SpectralClustering\n",
    "import copy\n",
    "from mpl_toolkits.axes_grid1 import make_axes_locatable"
   ]
  },
  {
   "cell_type": "code",
   "execution_count": 3,
   "metadata": {},
   "outputs": [],
   "source": [
    "class Cells:\n",
    "    def __init__(self, mask_path):\n",
    "        self.mask_path = mask_path\n",
    "        self.cell_masks = Image.open(mask_path)\n",
    "        self.cell_masks = torch.from_numpy(np.array(self.cell_masks))\n",
    "        self.cell_number = np.unique(self.cell_masks).max()\n",
    "        self.masks = [0]* self.cell_number\n",
    "        self.MSI = None\n",
    "        # self.profile = [0]* self.cell_number\n",
    "    \n",
    "    # use .cell_mask(cell_number) to call the calculation, use .masks[cell_number] to get the result afterward\n",
    "    def cell_mask(self, cell_serial):\n",
    "        return  self.cell_masks == cell_serial+1\n",
    "    \n",
    "    # add MSI profile \n",
    "    def add_profile(self, data):\n",
    "        self.MSI = data\n",
    "        return print('Profile added')\n",
    "    \n",
    "    # use .cell_profile(cell_number) to call the calculation, use .profile[cell_number] to get the result afterward\n",
    "    def cell_profile(self, cell_serial):\n",
    "        factor = int(self.cell_masks.shape[1]/self.MSI.shape[2])\n",
    "        assert type(cell_serial) == int\n",
    "        mask = self.cell_masks\n",
    "        positions = torch.nonzero(mask == cell_serial+1)\n",
    "        y_max = positions[:, 0].max(); y_min = positions[:, 0].min()\n",
    "        x_max = positions[:, 1].max(); x_min = positions[:, 1].min()\n",
    "        cell_profile =  torch.zeros(self.MSI.shape[0], y_max-y_min+1, x_max-x_min+1)\n",
    "        for i in range(positions.shape[0]):\n",
    "            y, x = positions[i, 0], positions[i, 1]\n",
    "            cell_profile[:, y-y_min, x-x_min] = self.MSI[:, y//factor, x//factor]/(factor**2)\n",
    "        return cell_profile\n",
    "    \n",
    "    def ave_profile(self, cell_serial):\n",
    "        mask = self.cell_masks\n",
    "        positions = torch.nonzero(mask == cell_serial+1)\n",
    "        size = positions.shape[0]\n",
    "        ave_profile =  torch.sum(self.cell_profile(cell_serial), dim=(1,2))/size \n",
    "        return ave_profile\n",
    "    \n",
    "    def cell_position(self, cell_serial):\n",
    "        mask = self.cell_masks\n",
    "        positions = torch.nonzero(mask == cell_serial+1)\n",
    "        size = positions.shape[0]\n",
    "        y_max = positions[:, 0].max(); y_min = positions[:, 0].min()\n",
    "        x_max = positions[:, 1].max(); x_min = positions[:, 1].min()\n",
    "        return (y_min, y_max, x_min, x_max), size\n",
    "    \n",
    "    def abstract_profile(self, cell_serial):\n",
    "        factor = int(self.cell_masks.shape[1]/self.MSI.shape[2])\n",
    "        assert type(cell_serial) == int\n",
    "        mask = self.cell_masks\n",
    "        positions, counts = torch.unique(torch.nonzero(mask == cell_serial+1)//factor, dim=0, return_counts=True)\n",
    "        y_max = positions[:, 0].max(); y_min = positions[:, 0].min()\n",
    "        x_max = positions[:, 1].max(); x_min = positions[:, 1].min()\n",
    "        cell_profile =  torch.zeros(self.MSI.shape[0], y_max-y_min+1, x_max-x_min+1)\n",
    "        for i in range(positions.shape[0]):\n",
    "            y, x = positions[i, 0], positions[i, 1]\n",
    "            cell_profile[:, y-y_min, x-x_min] = self.MSI[:, y, x] * (counts[i].item() / (factor**2))\n",
    "        return cell_profile\n"
   ]
  },
  {
   "cell_type": "code",
   "execution_count": 6,
   "metadata": {},
   "outputs": [],
   "source": [
    "mask_img = Image.open(r'E:\\CloudDrive\\OneDrive - genseccoltd\\Projects\\cellpose\\gancao30\\mask\\aufn moved 8 bit_cp_masks 7262.png')\n",
    "mask = np.array(mask_img).astype(float)"
   ]
  },
  {
   "cell_type": "code",
   "execution_count": 7,
   "metadata": {},
   "outputs": [],
   "source": [
    "data = joblib.load(r'E:\\CloudDrive\\OneDrive - genseccoltd\\Projects\\vscode-jupyter\\gancaofusion-data\\size_list, data, data_dr, Profile_list_dr')[1]"
   ]
  },
  {
   "cell_type": "code",
   "execution_count": 10,
   "metadata": {},
   "outputs": [
    {
     "name": "stdout",
     "output_type": "stream",
     "text": [
      "Profile added\n"
     ]
    }
   ],
   "source": [
    "cells = Cells(r'E:\\CloudDrive\\OneDrive - genseccoltd\\Projects\\cellpose\\gancao30\\mask\\aufn moved 8 bit_cp_masks 7262.png')\n",
    "cells.add_profile(torch.tensor(data))"
   ]
  },
  {
   "cell_type": "code",
   "execution_count": 19,
   "metadata": {},
   "outputs": [
    {
     "name": "stdout",
     "output_type": "stream",
     "text": [
      "999  done\n",
      "1999  done\n",
      "2999  done\n",
      "3999  done\n",
      "4999  done\n",
      "5999  done\n",
      "6999  done\n"
     ]
    }
   ],
   "source": [
    "df = pd.DataFrame(columns=range(901), index=range(7262))\n",
    "\n",
    "for i in range(7262):\n",
    "    df.iloc[i, :] = cells.ave_profile(i)\n",
    "    \n",
    "    if (i+1)%1000 == 0:\n",
    "        print(i, ' done')"
   ]
  },
  {
   "cell_type": "code",
   "execution_count": 21,
   "metadata": {},
   "outputs": [
    {
     "data": {
      "text/plain": [
       "['E:\\\\CloudDrive\\\\OneDrive - genseccoltd\\\\Projects\\\\vscode-jupyter\\\\gancaofusion-data\\\\df_901_ave_profile']"
      ]
     },
     "execution_count": 21,
     "metadata": {},
     "output_type": "execute_result"
    }
   ],
   "source": [
    "joblib.dump(df, r'E:\\CloudDrive\\OneDrive - genseccoltd\\Projects\\vscode-jupyter\\gancaofusion-data\\df_901_ave_profile')"
   ]
  },
  {
   "cell_type": "code",
   "execution_count": 22,
   "metadata": {},
   "outputs": [
    {
     "name": "stdout",
     "output_type": "stream",
     "text": [
      "Profile added\n"
     ]
    }
   ],
   "source": [
    "data_dr = joblib.load(r'E:\\CloudDrive\\OneDrive - genseccoltd\\Projects\\vscode-jupyter\\gancaofusion-data\\size_list, data, data_dr, Profile_list_dr')[2]\n",
    "cells = Cells(r'E:\\CloudDrive\\OneDrive - genseccoltd\\Projects\\cellpose\\gancao30\\mask\\aufn moved 8 bit_cp_masks 7262.png')\n",
    "cells.add_profile(torch.tensor(data_dr))"
   ]
  },
  {
   "cell_type": "code",
   "execution_count": 23,
   "metadata": {},
   "outputs": [
    {
     "name": "stdout",
     "output_type": "stream",
     "text": [
      "999  done\n",
      "1999  done\n",
      "2999  done\n",
      "3999  done\n",
      "4999  done\n",
      "5999  done\n",
      "6999  done\n"
     ]
    }
   ],
   "source": [
    "df_dr = pd.DataFrame(columns=range(10), index=range(7262))\n",
    "\n",
    "for i in range(7262):\n",
    "    df_dr.iloc[i, :] = cells.ave_profile(i)\n",
    "    \n",
    "    if (i+1)%1000 == 0:\n",
    "        print(i, ' done')"
   ]
  },
  {
   "cell_type": "code",
   "execution_count": 24,
   "metadata": {},
   "outputs": [
    {
     "data": {
      "text/plain": [
       "['E:\\\\CloudDrive\\\\OneDrive - genseccoltd\\\\Projects\\\\vscode-jupyter\\\\gancaofusion-data\\\\df_10_ave_profile']"
      ]
     },
     "execution_count": 24,
     "metadata": {},
     "output_type": "execute_result"
    }
   ],
   "source": [
    "joblib.dump(df_dr, r'E:\\CloudDrive\\OneDrive - genseccoltd\\Projects\\vscode-jupyter\\gancaofusion-data\\df_10_ave_profile')"
   ]
  },
  {
   "cell_type": "code",
   "execution_count": 26,
   "metadata": {},
   "outputs": [
    {
     "data": {
      "text/plain": [
       "(7262, 10)"
      ]
     },
     "execution_count": 26,
     "metadata": {},
     "output_type": "execute_result"
    }
   ],
   "source": [
    "df_dr.shape"
   ]
  },
  {
   "cell_type": "code",
   "execution_count": 30,
   "metadata": {},
   "outputs": [],
   "source": [
    "def get_image(mask, arr, cell_number):\n",
    "    img = np.zeros(mask.shape)\n",
    "    for i in range(cell_number):\n",
    "        img[mask == i+1] = arr[i]\n",
    "    return img\n",
    "\n",
    "def segmentation1(dr_df, cluster_numbers, mask, cell_number):\n",
    "    \n",
    "    seglist = []\n",
    "\n",
    "    for n_clusters in cluster_numbers:\n",
    "        \n",
    "        cluster = KMeans(n_clusters=n_clusters, random_state=0).fit(dr_df)\n",
    "        y_pred = cluster.labels_ + 1\n",
    "\n",
    "        seg_pic = get_image(mask, y_pred, cell_number)\n",
    "\n",
    "        seglist.append(seg_pic)\n",
    "        \n",
    "    return seglist"
   ]
  },
  {
   "cell_type": "code",
   "execution_count": null,
   "metadata": {},
   "outputs": [],
   "source": [
    "segs = segmentation1(df_dr, range(3,19), mask, 7262)"
   ]
  },
  {
   "cell_type": "code",
   "execution_count": null,
   "metadata": {},
   "outputs": [],
   "source": [
    "fig, axes = plt.subplots(4,4\n",
    "                       ,figsize=(40,35)\n",
    "                       ,subplot_kw = {\"xticks\":[],\"yticks\":[]} \n",
    "                       )\n",
    "for i in range(0,16):\n",
    "    picture=[*axes.flat][i].imshow(data.seg_pics_group_1['normal_seg'][i], cmap=plt.cm.get_cmap('tab20', i+4))\n",
    "    divider = make_axes_locatable([*axes.flat][i])\n",
    "    cax = divider.append_axes(\"bottom\", size=\"5%\", pad=0.05)\n",
    "    plt.colorbar(picture, cax=cax, ticks=range(0,i+4), orientation = \"horizontal\")\n",
    "plt.tight_layout()"
   ]
  }
 ],
 "metadata": {
  "kernelspec": {
   "display_name": "base",
   "language": "python",
   "name": "python3"
  },
  "language_info": {
   "codemirror_mode": {
    "name": "ipython",
    "version": 3
   },
   "file_extension": ".py",
   "mimetype": "text/x-python",
   "name": "python",
   "nbconvert_exporter": "python",
   "pygments_lexer": "ipython3",
   "version": "3.12.2"
  }
 },
 "nbformat": 4,
 "nbformat_minor": 2
}
